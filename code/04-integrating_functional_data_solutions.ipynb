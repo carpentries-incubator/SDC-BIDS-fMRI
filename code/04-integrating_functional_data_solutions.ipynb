{
 "cells": [
  {
   "cell_type": "markdown",
   "metadata": {},
   "source": [
    "# Integrating Functional Data\n",
    "\n",
    "So far most of our work has been examining anatomical images - the reason being is that it provides a nice visual way of exploring the effects of data manipulation and visualization is easy. In practice, you will most likely not analyze anatomical data using <code>nilearn</code> since there are other tools that are better suited for that kind of analysis (freesurfer, connectome-workbench, mindboggle, etc...). \n",
    "\n",
    "In this notebook we'll finally start working with functional MR data - the modality of interest in this workshop. First we'll cover some basics about how the data is organized (similar to T1s but slightly more complex), and then how we can integrate our anatomical and functional data together using tools provided by <code>nilearn</code>"
   ]
  },
  {
   "cell_type": "markdown",
   "metadata": {},
   "source": [
    "Functional data consists of full 3D brain volumes that are *sampled* at multiple time points. Therefore you have a sequence of 3D brain volumes, stepping through sequences is stepping through time and therefore time is our 4th dimension! Here's a visualization to make this concept more clear:"
   ]
  },
  {
   "cell_type": "markdown",
   "metadata": {},
   "source": [
    "<img src=\"./static/images/4D_array.png\" alt=\"Drawing\" align=\"middle\" width=\"500px\"/>"
   ]
  },
  {
   "cell_type": "markdown",
   "metadata": {},
   "source": [
    "Each index along the 4th dimensions (called TR for \"Repetition Time\", or Sample) is a full 3D scan of the brain. Pulling out volumes from 4-dimensional images is similar to that of 3-dimensional images except you're now dealing with:\n",
    "\n",
    "\n",
    "<code> img.slicer[x,y,z,time] </code>!\n",
    "\n",
    "Let's try a couple of examples to familiarize ourselves with dealing with 4D images. But first, let's pull some functional data using PyBIDS!"
   ]
  },
  {
   "cell_type": "code",
   "execution_count": null,
   "metadata": {},
   "outputs": [],
   "source": [
    "import os\n",
    "import matplotlib.pyplot as plt #to enable plotting within notebook\n",
    "from nilearn import image as img\n",
    "from nilearn import plotting as plot\n",
    "from bids.layout import BIDSLayout\n",
    "import numpy as np\n",
    "%matplotlib inline"
   ]
  },
  {
   "cell_type": "code",
   "execution_count": null,
   "metadata": {},
   "outputs": [],
   "source": [
    "fmriprep_dir = '../data/ds000030/derivatives/fmriprep/'\n",
    "layout=BIDSLayout(fmriprep_dir, validate=False)\n",
    "T1w_files = layout.get(subject='10788', datatype='anat', suffix='preproc')\n",
    "brainmask_files = layout.get(subject='10788', datatype='anat', suffix='brainmask')\n",
    "func_files = layout.get(subject='10788', datatype='func', suffix='preproc')\n",
    "func_mask_files = layout.get(subject='10788', datatype='func', suffix='brainmask')"
   ]
  },
  {
   "cell_type": "markdown",
   "metadata": {},
   "source": [
    "We'll be using functional files in MNI space rather than T1w space. Recall, that MNI space data is data that was been warped into standard space. These are the files you would typically use for a group-level functional imaging analysis!"
   ]
  },
  {
   "cell_type": "code",
   "execution_count": null,
   "metadata": {},
   "outputs": [],
   "source": [
    "func_mni = func_files[1].path\n",
    "func_mni_img = img.load_img(func_mni)"
   ]
  },
  {
   "cell_type": "markdown",
   "metadata": {},
   "source": [
    "First, take a look at the shape of the functional image:"
   ]
  },
  {
   "cell_type": "code",
   "execution_count": null,
   "metadata": {},
   "outputs": [],
   "source": [
    "func_mni_img.shape"
   ]
  },
  {
   "cell_type": "markdown",
   "metadata": {},
   "source": [
    "Notice that the Functional MR scan contains *4 dimensions*. This is in the form of $(x,y,z,t)$, where $t$ is time. \n",
    "We can use slicer as usual where instead of using 3 dimensions we use 4. \n",
    "\n",
    "For example:\n",
    "\n",
    "<code> func.slicer[x,y,z] </code> \n",
    "\n",
    "vs.\n",
    "\n",
    "<code> func.slicer[x,y,z,t] </code>"
   ]
  },
  {
   "cell_type": "markdown",
   "metadata": {},
   "source": []
  },
  {
   "cell_type": "code",
   "execution_count": null,
   "metadata": {},
   "outputs": [],
   "source": [
    "#Pull the 5th TR\n",
    "func_vol5 = func_mni_img.slicer[:,:,:,4]\n",
    "plot.plot_epi(func_vol5)"
   ]
  },
  {
   "cell_type": "markdown",
   "metadata": {},
   "source": [
    "## What fMRI actually represents"
   ]
  },
  {
   "cell_type": "markdown",
   "metadata": {},
   "source": [
    "We've represented fMRI as a snapshot of MR signal over multiple timepoints. This is a useful way of understanding the organization of fMRI, however it isn't typically how we think about the data when we analyze fMRI data. fMRI is typically thought of as **time-series** data. We can think of each voxel (x,y,z coordinate) as having a time-series of length T. The length T represents the number of volumes/timepoints in the data. Let's pick an example voxel and examine its time-series using <code>func_mni_img.slicer</code>:"
   ]
  },
  {
   "cell_type": "code",
   "execution_count": null,
   "metadata": {},
   "outputs": [],
   "source": [
    "func_mni_img.shape"
   ]
  },
  {
   "cell_type": "code",
   "execution_count": null,
   "metadata": {},
   "outputs": [],
   "source": [
    "#Pick orne voxel at coordinate (60,45,88)\n",
    "single_vox = func_mni_img.slicer[59:60,45:46,30:31,:].get_data()\n",
    "single_vox.shape"
   ]
  },
  {
   "cell_type": "markdown",
   "metadata": {},
   "source": [
    "As you can see here, we pulled one voxel that contains 152 timepoints. For plotting purposes as 4-dimensional array is difficult to deal with so we'll flatten it to 1 dimension (time) for convenience:"
   ]
  },
  {
   "cell_type": "code",
   "execution_count": null,
   "metadata": {},
   "outputs": [],
   "source": [
    "single_vox = single_vox.flatten()\n",
    "single_vox.shape"
   ]
  },
  {
   "cell_type": "markdown",
   "metadata": {},
   "source": [
    "Here we've pulled out a voxel at a specific coordinate at every single time-point. This voxel has a single value for each timepoint and therefore is a time-series. We can visualize this time-series signal by using a standard python plotting library. We won't go into too much detail about python plotting, the intuition about what the data looks like is what is most important:"
   ]
  },
  {
   "cell_type": "code",
   "execution_count": null,
   "metadata": {},
   "outputs": [],
   "source": [
    "import matplotlib.pyplot as plt"
   ]
  },
  {
   "cell_type": "code",
   "execution_count": null,
   "metadata": {},
   "outputs": [],
   "source": [
    "plt.plot(np.arange(0,single_vox.shape[0]),single_vox,'k')\n",
    "plt.xlabel('Timepoint')\n",
    "plt.ylabel('Signal Value')"
   ]
  },
  {
   "cell_type": "markdown",
   "metadata": {},
   "source": [
    "## Resampling\n",
    "Recall from our introductory exploration of neuroimaging data:\n",
    "\n",
    "- T1 images are typically composed of voxels that are 1x1x1 in dimension\n",
    "- Functional images are typically composed of voxels that are 4x4x4 in dimension\n",
    "\n",
    "If we'd like to overlay our functional on top of our T1 (for visualization purposes, or analyses), then we need to match the size of the voxels! \n",
    "\n",
    "Think of this like trying to overlay a 10x10 JPEG and a 20x20 JPEG on top of each other. To get perfect overlay we need to resize (or more accurately *resample*) our JPEGs to match!\n",
    "\n",
    "**Note**: \n",
    "Resampling is a method of interpolating in between data-points. When we stretch an image we need to figure out what goes in the spaces that are created via stretching - resampling does just that. In fact, resizing any type of image is actually just resampling to new dimensions. "
   ]
  },
  {
   "cell_type": "markdown",
   "metadata": {},
   "source": [
    "Let's resampling some MRI data using nilearn. \n",
    "\n",
    "**Goal**: Match the dimensions of the structural image to that of the functional image"
   ]
  },
  {
   "cell_type": "code",
   "execution_count": null,
   "metadata": {},
   "outputs": [],
   "source": [
    "#Files we'll be using (Notice that we're using _space-MNI..._ which means they are normalized brains)\n",
    "T1_mni = T1w_files[1].path\n",
    "T1_mni_img = img.load_img(T1_mni)"
   ]
  },
  {
   "cell_type": "markdown",
   "metadata": {},
   "source": [
    "Let's take a look at the sizes of both our functional and structural files:"
   ]
  },
  {
   "cell_type": "code",
   "execution_count": null,
   "metadata": {},
   "outputs": [],
   "source": [
    "print(T1_mni_img.shape)\n",
    "print(func_mni_img.shape)"
   ]
  },
  {
   "cell_type": "markdown",
   "metadata": {},
   "source": [
    "Resampling in nilearn is as easy as telling it which image you want to sample and what the target image is.\n",
    "Structure of function:\n",
    "\n",
    "img.resample_to_img(source_img,target_img,interpolation) \n",
    "- source_img = the image you want to sample\n",
    "- target_img = the image you wish to *resample to* \n",
    "- interpolation = the method of interpolation\n",
    "\n",
    "A note on **interpolation**\n",
    "\n",
    "nilearn supports 3 types of interpolation, the one you'll use depends on the type of data you're resampling!\n",
    "1. **continuous** - Interpolate but maintain some edge features.  Ideal for structural images where edges are well-defined. Uses $3^\\text{rd}$-order spline interpolation.\n",
    "2. **linear (default)** - Interpolate uses a combination of neighbouring voxels - will blur. Uses trilinear interpolation.\n",
    "3. **nearest** - matches value of closest voxel (majority vote from neighbours). This is ideal for masks which are binary since it will preserve the 0's and 1's and will not produce in-between values (ex: 0.342). Also ideal for numeric labels where values are 0,1,2,3... (parcellations). Uses nearest-neighbours interpolation with majority vote.\n"
   ]
  },
  {
   "cell_type": "code",
   "execution_count": null,
   "metadata": {},
   "outputs": [],
   "source": [
    "#Try playing around with methods of interpolation\n",
    "#options: 'linear','continuous','nearest'\n",
    "resamp_t1 = img.resample_to_img(source_img=T1_mni_img,target_img=func_mni_img,interpolation='continuous')\n",
    "print(resamp_t1.shape)\n",
    "print(func_mni_img.shape)\n",
    "plot.plot_anat(resamp_t1)"
   ]
  },
  {
   "cell_type": "code",
   "execution_count": null,
   "metadata": {},
   "outputs": [],
   "source": [
    "import matplotlib.animation\n",
    "from IPython.display import HTML"
   ]
  },
  {
   "cell_type": "code",
   "execution_count": null,
   "metadata": {},
   "outputs": [],
   "source": [
    "%%capture\n",
    "%matplotlib inline\n",
    "#Resample the T1 to the size of the functional image!\n",
    "resamp_t1 = img.resample_to_img(source_img=T1_mni_img, target_img=func_mni_img, interpolation='continuous')\n",
    "fig, ax = plt.subplots()\n",
    "\n",
    "def animate(image):\n",
    "    plot.plot_anat(image, figure=fig, cut_coords=(0,0,0))\n",
    "    ax.set_facecolor('black')\n",
    "    \n",
    "ani = matplotlib.animation.FuncAnimation(fig, animate, frames=[resamp_t1, T1_mni_img]) \n",
    "#change the frames to look at the functional mask over the resampled T1\n",
    "# ani = matplotlib.animation.FuncAnimation(fig, animate, frames=[resamp_t1, func]) "
   ]
  },
  {
   "cell_type": "code",
   "execution_count": null,
   "metadata": {},
   "outputs": [],
   "source": [
    "# Display animation\n",
    "HTML(ani.to_jshtml())"
   ]
  },
  {
   "cell_type": "markdown",
   "metadata": {},
   "source": [
    "## **Exercise**\n",
    "\n",
    "Using **Native** T1 and **T1w** resting state functional do the following:\n",
    "1. Resample the native T1 image to resting state size\n",
    "2. Replace the brain in the T1 image with the first frame of the resting state brain"
   ]
  },
  {
   "cell_type": "code",
   "execution_count": null,
   "metadata": {},
   "outputs": [],
   "source": [
    "func_files[0]"
   ]
  },
  {
   "cell_type": "code",
   "execution_count": null,
   "metadata": {},
   "outputs": [],
   "source": [
    "func_mask_files"
   ]
  },
  {
   "cell_type": "code",
   "execution_count": null,
   "metadata": {},
   "outputs": [],
   "source": [
    "#Files we'll need\n",
    "\n",
    "\n",
    "####STRUCTURAL FILES\n",
    "\n",
    "#T1 image\n",
    "ex_t1 = img.load_img(T1w_files[0].path)\n",
    "\n",
    "#mask file\n",
    "ex_t1_bm = img.load_img(brainmask_files[0].path)\n",
    "\n",
    "\n",
    "####FUNCTIONAL FILES\n",
    "\n",
    "#This is the pre-processed resting state data that hasn't been standardized\n",
    "ex_func = img.load_img(func_files[1].path)\n",
    "\n",
    "#This is the associated mask for the resting state image.\n",
    "ex_func_bm = img.load_img(func_mask_files[1].path)"
   ]
  },
  {
   "cell_type": "markdown",
   "metadata": {},
   "source": [
    "The first step we need to do is to make sure the dimensions for our T1 image and resting state image match each other:"
   ]
  },
  {
   "cell_type": "code",
   "execution_count": null,
   "metadata": {},
   "outputs": [],
   "source": [
    "#Resample the T1 to the size of the functional image!\n",
    "resamp_t1 = img.resample_to_img(source_img=ex_t1, target_img=ex_func, interpolation='continuous')\n",
    "plot.plot_anat(resamp_t1)\n",
    "print(resamp_t1.shape)"
   ]
  },
  {
   "cell_type": "markdown",
   "metadata": {},
   "source": [
    "Next we want to make sure that the brain mask for the T1 is also the same dimensions as the functional image. This is exactly the same as above, except we use the brain mask as the source.\n",
    "\n",
    "What kind of interpolation should we use for masks? "
   ]
  },
  {
   "cell_type": "code",
   "execution_count": null,
   "metadata": {},
   "outputs": [],
   "source": [
    "resamp_bm = img.resample_to_img(source_img=ex_t1_bm, target_img=ex_func,interpolation='nearest')\n",
    "plot.plot_anat(resamp_bm)\n",
    "print(resamp_bm.shape)"
   ]
  },
  {
   "cell_type": "markdown",
   "metadata": {},
   "source": [
    "Once we've resampled both our T1 and our brain mask. We now want to remove the brain from the T1 image so that we can replace it with the funtional image instead. Remember to do this we need to:\n",
    "\n",
    "1. Invert the T1 mask\n",
    "2. Apply the inverted mask to the brain"
   ]
  },
  {
   "cell_type": "code",
   "execution_count": null,
   "metadata": {},
   "outputs": [],
   "source": [
    "inverted_bm_t1 = img.math_img('1-a',a=resamp_bm)\n",
    "plot.plot_anat(inverted_bm_t1)"
   ]
  },
  {
   "cell_type": "markdown",
   "metadata": {},
   "source": [
    "Now apply the mask:"
   ]
  },
  {
   "cell_type": "code",
   "execution_count": null,
   "metadata": {},
   "outputs": [],
   "source": [
    "resamp_t1_nobrain = img.math_img('a*b',a=resamp_t1,b=inverted_bm_t1)\n",
    "plot.plot_anat(resamp_t1_nobrain)"
   ]
  },
  {
   "cell_type": "markdown",
   "metadata": {},
   "source": [
    "We now have a skull missing the structural T1 brain. The final steps is to stick in the brain from the functional image into the now brainless head. First we need to remove the surrounding signal from the functional image.\n",
    "\n",
    "Since a functional image is 4-Dimensional, we'll need to pull the first volume to work with. This is because the structural image is 3-dimensional and operations will fail if we try to mix 3D and 4D data."
   ]
  },
  {
   "cell_type": "code",
   "execution_count": null,
   "metadata": {},
   "outputs": [],
   "source": [
    "#Let's visualize the first volume of the functional image:\n",
    "first_vol = ex_func.slicer[:,:,:,0]\n",
    "plot.plot_epi(first_vol)"
   ]
  },
  {
   "cell_type": "markdown",
   "metadata": {},
   "source": [
    "As shown in the figure above, the image has some \"signal\" outside of the brain. In order to place this within the now brainless head we made earlier, we need to mask out the functional MR data as well!"
   ]
  },
  {
   "cell_type": "code",
   "execution_count": null,
   "metadata": {},
   "outputs": [],
   "source": [
    "masked_func = img.math_img('a*b', a=first_vol, b=ex_func_bm)\n",
    "plot.plot_epi(masked_func)"
   ]
  },
  {
   "cell_type": "markdown",
   "metadata": {},
   "source": [
    "The final step is to stick this data into the head of the T1 data. Since the hole in the T1 data is represented as $0$'s. We can add the two images together to place the functional data into the void:"
   ]
  },
  {
   "cell_type": "code",
   "execution_count": null,
   "metadata": {},
   "outputs": [],
   "source": [
    "#Now overlay the functional image on top of the anatomical\n",
    "combined_img = img.math_img('a+b',a=resamp_t1_nobrain,b=masked_func)\n",
    "plot.plot_anat(combined_img)"
   ]
  },
  {
   "cell_type": "markdown",
   "metadata": {},
   "source": [
    "***"
   ]
  },
  {
   "cell_type": "markdown",
   "metadata": {},
   "source": [
    "In this section we explored functional MR imaging. Specifically we covered:\n",
    "    \n",
    "1. How the data in a fMRI scan is organized - with the additional dimension of timepoints\n",
    "2. How we can integrate functional MR images to our structural image using resampling\n",
    "3. How we can just as easily manipulate functional images using <code>nilearn</code>\n",
    "\n",
    "Now that we've covered all the basics, it's time to start working on data processing using the tools that we've picked up. "
   ]
  }
 ],
 "metadata": {
  "kernelspec": {
   "display_name": "Python 3",
   "language": "python",
   "name": "python3"
  },
  "language_info": {
   "codemirror_mode": {
    "name": "ipython",
    "version": 3
   },
   "file_extension": ".py",
   "mimetype": "text/x-python",
   "name": "python",
   "nbconvert_exporter": "python",
   "pygments_lexer": "ipython3",
   "version": "3.7.0"
  }
 },
 "nbformat": 4,
 "nbformat_minor": 2
}
