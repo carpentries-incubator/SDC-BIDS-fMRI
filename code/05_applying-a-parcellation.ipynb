{
 "cells": [
  {
   "cell_type": "markdown",
   "metadata": {},
   "source": [
    "\n",
    "## Brain Atlases\n",
    "A brain atlas is a labeling of a volume. Each voxel contains a label, instead of a gray value. These labels are numeric. Each number corresponds to a region of interest (ROI).\n",
    "\n",
    "Why ROIs?\n",
    "\n",
    "1. Explore the data (see signal in areas of interest plotted for each condition or plotted against other variables of interest)\n",
    "2. Limit number of statistical tests, controlling for Type I error\n",
    "3. Limit statistical tests to a region that is functionally defined.\n",
    "\n",
    "Some of these atlases are also explained here: https://fsl.fmrib.ox.ac.uk/fsl/fslwiki/Atlases.\n",
    "\n",
    "##  Comparing Atlases\n",
    "A full list of nilearn atlases can be found here: http://nilearn.github.io/modules/reference.html#module-nilearn.datasets.\n",
    "For questions about which brain atlas to use, a recent Arslan et al., 2018 paper may aid in your search.\n",
    "\n",
    "## Retrieving the Atlas\n",
    "For this tutorial, we'll be using a set of parcellations from [Yeo et al., 2011](https://www.ncbi.nlm.nih.gov/pmc/articles/PMC3174820/). This atlas was generated from fMRI data from 1000 healthy control participants."
   ]
  },
  {
   "cell_type": "code",
   "execution_count": null,
   "metadata": {},
   "outputs": [],
   "source": []
  },
  {
   "cell_type": "markdown",
   "metadata": {},
   "source": [
    "First let's get the Yeo 2011 atlas"
   ]
  },
  {
   "cell_type": "code",
   "execution_count": null,
   "metadata": {},
   "outputs": [],
   "source": []
  },
  {
   "cell_type": "markdown",
   "metadata": {},
   "source": [
    "If we look at the dictionary keys for `atlas_yeo_2011`, we can see that the Yeo atlas actually contains 4 different ROI atlases."
   ]
  },
  {
   "cell_type": "code",
   "execution_count": null,
   "metadata": {},
   "outputs": [],
   "source": []
  },
  {
   "cell_type": "markdown",
   "metadata": {},
   "source": [
    "Let's plot each of them to see what they look like. You'll notice that the colour bar on the right shows the number of labels in each atlas and which colour corresponds to which network"
   ]
  },
  {
   "cell_type": "code",
   "execution_count": null,
   "metadata": {},
   "outputs": [],
   "source": []
  },
  {
   "cell_type": "markdown",
   "metadata": {},
   "source": [
    "We'll choose the 7 network atlas. The 7 networks you see include: Background, Visual, Somatosensory, Dorsal Attension, Ventral Attention, Limbic, Frontoparietal, and Default."
   ]
  },
  {
   "cell_type": "code",
   "execution_count": null,
   "metadata": {},
   "outputs": [],
   "source": []
  },
  {
   "cell_type": "markdown",
   "metadata": {},
   "source": [
    "### Relabeling the atlas into separate ROIs\n",
    "Often, in a given atlas of labels, the same label may be used in different connection regions (eg. a region in each hemisphere). If we want to perform our analysis on regions and not networks, we need to assign a different label to each connected region. We'll use nilearn's connected_label_regions() function to split up the 7 networks of the Yeo atlas into 49 ROIs."
   ]
  },
  {
   "cell_type": "code",
   "execution_count": null,
   "metadata": {},
   "outputs": [],
   "source": []
  },
  {
   "cell_type": "markdown",
   "metadata": {},
   "source": [
    "### Resampling the atlas\n",
    "Let's save the new atlas to a NIfTI file so that we can work with it later."
   ]
  },
  {
   "cell_type": "code",
   "execution_count": null,
   "metadata": {},
   "outputs": [],
   "source": []
  },
  {
   "cell_type": "markdown",
   "metadata": {},
   "source": [
    "In order to apply the atlas to our fMRI image, we first need to make sure that they have the same dimensions."
   ]
  },
  {
   "cell_type": "code",
   "execution_count": null,
   "metadata": {},
   "outputs": [],
   "source": []
  },
  {
   "cell_type": "markdown",
   "metadata": {},
   "source": [
    "<div class=exercise>\n",
    "    <b>EXERCISE:</b> What are the dimensions of func_img and region_labels? If they aren't equal, resample the atlas. </div>"
   ]
  },
  {
   "cell_type": "markdown",
   "metadata": {},
   "source": [
    "<div class=solution> \n",
    "  <b>SOLUTION:</b>\n",
    "</div>"
   ]
  },
  {
   "cell_type": "code",
   "execution_count": 2,
   "metadata": {},
   "outputs": [
    {
     "name": "stdout",
     "output_type": "stream",
     "text": [
      "fmri image dimensions:\n",
      "atlas dimensions:\n"
     ]
    }
   ],
   "source": [
    "print(\"fmri image dimensions:\", )\n",
    "print(\"atlas dimensions:\", )"
   ]
  },
  {
   "cell_type": "code",
   "execution_count": null,
   "metadata": {},
   "outputs": [],
   "source": []
  },
  {
   "cell_type": "markdown",
   "metadata": {},
   "source": [
    "Let's see what the resampled atlas looks like overlayed on a slice of our NifTI file"
   ]
  },
  {
   "cell_type": "code",
   "execution_count": null,
   "metadata": {},
   "outputs": [],
   "source": []
  },
  {
   "cell_type": "markdown",
   "metadata": {},
   "source": [
    "### Visualizing ROIs"
   ]
  },
  {
   "cell_type": "markdown",
   "metadata": {},
   "source": [
    "<div class=exercise> \n",
    "    <b>EXERCISE:</b> Visualize ROIs 44 and 46 in the Yeo atlas. We'll be looking at these 2 ROIs in more detail during our analysis\n",
    "</div>"
   ]
  },
  {
   "cell_type": "markdown",
   "metadata": {},
   "source": [
    "<div class=solution> \n",
    "  <b>SOLUTION:</b>\n",
    "</div>"
   ]
  },
  {
   "cell_type": "code",
   "execution_count": null,
   "metadata": {},
   "outputs": [],
   "source": []
  },
  {
   "cell_type": "code",
   "execution_count": null,
   "metadata": {},
   "outputs": [],
   "source": []
  }
 ],
 "metadata": {
  "anaconda-cloud": {},
  "kernelspec": {
   "display_name": "Python 3",
   "language": "python",
   "name": "python3"
  },
  "language_info": {
   "codemirror_mode": {
    "name": "ipython",
    "version": 3
   },
   "file_extension": ".py",
   "mimetype": "text/x-python",
   "name": "python",
   "nbconvert_exporter": "python",
   "pygments_lexer": "ipython3",
   "version": "3.7.0"
  }
 },
 "nbformat": 4,
 "nbformat_minor": 1
}
