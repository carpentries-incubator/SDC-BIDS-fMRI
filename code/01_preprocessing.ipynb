{
 "cells": [
  {
   "cell_type": "markdown",
   "metadata": {},
   "source": [
    "### Using fmriprep"
   ]
  },
  {
   "cell_type": "markdown",
   "metadata": {},
   "source": [
    "[fmriprep](https://fmriprep.readthedocs.io/en/stable/) is a package developed by the Poldrack lab to do the minimal preprocessing of fMRI data required. It covers brain extraction, motion correction, field unwarping, and registration. It uses a combination of well-known software packages (e.g., FSL, SPM, ANTS, AFNI) and selects the 'best' implementation of each preprocessing step.\n",
    "\n",
    "Once installed, `fmriprep` can be invoked from the command line. We can even run it inside this notebook! The following command should work after you remove the 'hashtag' `#`. \n",
    "\n",
    "However, running fmriprep takes quite some time (we included the hashtag to prevent you from accidentally running it). You'll most likely want to run it in parallel on a computing cluster."
   ]
  },
  {
   "cell_type": "code",
   "execution_count": null,
   "metadata": {
    "collapsed": true
   },
   "outputs": [],
   "source": [
    "#!fmriprep \\\n",
    "#  --ignore slicetiming \\\n",
    "#  --ignore fieldmaps \\\n",
    "#  --output-space template \\\n",
    "#  --template MNI152NLin2009cAsym \\\n",
    "#  --template-resampling-grid 2mm \\\n",
    "#  --fs-no-reconall \\\n",
    "#  --fs-license-file \\\n",
    "#  ../license.txt \\\n",
    "#  ../data/ds000030 ../data/ds000030/derivatives/fmriprep participant"
   ]
  },
  {
   "cell_type": "markdown",
   "metadata": {},
   "source": [
    "The command above consists of the following parts:\n",
    "- \\\"fmriprep\\\" calls fmriprep\n",
    "- `--ignore slicetiming` tells fmriprep to _not_ perform slice timing correction\n",
    "- `--ignore fieldmaps` tells fmriprep to _not_ perform distortion correction (unfortunately, there are no field maps available in this data set)\n",
    "- `--output-space template` tells fmriprep to normalize (register) data to a template\n",
    "- `--template MNI152NLin2009cAsym` tells fmriprep that the template should be MNI152 version 6 (2009c)\n",
    "- `--template-resampling-grid 2mm` tells fmriprep to resample the output images to 2mm isotropic resolution\n",
    "- `--fs-license-file ../../license.txt` tells fmriprep where to find the license.txt-file for freesurfer - you can ignore this\n",
    "- `bids` is the name of the folder containing the data in bids format\n",
    "- `output_folder` is the name of the folder where we want the preprocessed data to be stored,\n",
    "- `participant` tells fmriprep to run only at the participant level (and not, for example, at the group level - you can forget about this)\n",
    "\n",
    "The [official documentation](http://fmriprep.readthedocs.io/) contains all possible arguments you can pass."
   ]
  },
  {
   "cell_type": "markdown",
   "metadata": {},
   "source": [
    "### Using nipype"
   ]
  },
  {
   "cell_type": "markdown",
   "metadata": {},
   "source": [
    "fmriprep makes use of [Nipype](https://nipype.readthedocs.io/en/latest/), a pipelining tool for preprocessing neuroimaging data. Nipype makes it easy to share and document pipelines and run them in parallel on a computing cluster. If you would like to build your own preprocessing pipelines, a good resource to get started is [this tutorial](https://miykael.github.io/nipype_tutorial/)."
   ]
  }
 ],
 "metadata": {
  "kernelspec": {
   "display_name": "Python [default]",
   "language": "python",
   "name": "python3"
  },
  "language_info": {
   "codemirror_mode": {
    "name": "ipython",
    "version": 3
   },
   "file_extension": ".py",
   "mimetype": "text/x-python",
   "name": "python",
   "nbconvert_exporter": "python",
   "pygments_lexer": "ipython3",
   "version": "3.6.2"
  }
 },
 "nbformat": 4,
 "nbformat_minor": 2
}
